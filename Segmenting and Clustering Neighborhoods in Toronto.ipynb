{
    "cells": [
        {
            "metadata": {},
            "cell_type": "code",
            "source": "!conda update pandas\nimport pandas as pd \n!conda install beautifulsoup4\nimport requests \nfrom bs4 import BeautifulSoup \n!pip install html5lib\n!pip install bs4 \n",
            "execution_count": 1,
            "outputs": [
                {
                    "output_type": "stream",
                    "text": "Collecting package metadata (current_repodata.json): done\nSolving environment: | \n\nUpdating pandas is constricted by \n\nibm-wsrt-py37main-main -> requires pandas==1.0.5[build=*]\n\nIf you are sure you want an update of your package either try `conda update --all` or install a specific version of the package you want using `conda install <pkg>=<version>`\n\ndone\n\n# All requested packages already installed.\n\nCollecting package metadata (current_repodata.json): done\nSolving environment: done\n\n# All requested packages already installed.\n\n/opt/conda/envs/Python-3.7-main/lib/python3.7/site-packages/secretstorage/dhcrypto.py:16: CryptographyDeprecationWarning: int_from_bytes is deprecated, use int.from_bytes instead\n  from cryptography.utils import int_from_bytes\n/opt/conda/envs/Python-3.7-main/lib/python3.7/site-packages/secretstorage/util.py:25: CryptographyDeprecationWarning: int_from_bytes is deprecated, use int.from_bytes instead\n  from cryptography.utils import int_from_bytes\nRequirement already satisfied: html5lib in /opt/conda/envs/Python-3.7-main/lib/python3.7/site-packages (1.1)\nRequirement already satisfied: six>=1.9 in /opt/conda/envs/Python-3.7-main/lib/python3.7/site-packages (from html5lib) (1.15.0)\nRequirement already satisfied: webencodings in /opt/conda/envs/Python-3.7-main/lib/python3.7/site-packages (from html5lib) (0.5.1)\n/opt/conda/envs/Python-3.7-main/lib/python3.7/site-packages/secretstorage/dhcrypto.py:16: CryptographyDeprecationWarning: int_from_bytes is deprecated, use int.from_bytes instead\n  from cryptography.utils import int_from_bytes\n/opt/conda/envs/Python-3.7-main/lib/python3.7/site-packages/secretstorage/util.py:25: CryptographyDeprecationWarning: int_from_bytes is deprecated, use int.from_bytes instead\n  from cryptography.utils import int_from_bytes\nRequirement already satisfied: bs4 in /opt/conda/envs/Python-3.7-main/lib/python3.7/site-packages (0.0.1)\nRequirement already satisfied: beautifulsoup4 in /opt/conda/envs/Python-3.7-main/lib/python3.7/site-packages (from bs4) (4.9.1)\nRequirement already satisfied: soupsieve>1.2 in /opt/conda/envs/Python-3.7-main/lib/python3.7/site-packages (from beautifulsoup4->bs4) (2.0.1)\n",
                    "name": "stdout"
                }
            ]
        },
        {
            "metadata": {},
            "cell_type": "markdown",
            "source": "Obtaining the url to the page with the table data."
        },
        {
            "metadata": {},
            "cell_type": "code",
            "source": "url='https://en.wikipedia.org/wiki/List_of_postal_codes_of_Canada:_M'\n#url='https://en.wikipedia.org/wiki/List_of_postal_codes_of_Canada:_L'\nr=requests.get(url)\nsoup=BeautifulSoup(r.text,'html5lib')",
            "execution_count": null,
            "outputs": []
        },
        {
            "metadata": {},
            "cell_type": "markdown",
            "source": "Now will search for the table we are interested in."
        },
        {
            "metadata": {},
            "cell_type": "code",
            "source": "table_contents=[]\ntable=soup.find('table')",
            "execution_count": null,
            "outputs": []
        },
        {
            "metadata": {},
            "cell_type": "markdown",
            "source": "Now that we have our table, need to clean the data. In the following cell, the code will organize the table values into 3 separate columns (Postal Code, Borough, and Neighborhood), and will drop any cells with \"Not Assigned\" in their data."
        },
        {
            "metadata": {},
            "cell_type": "code",
            "source": "\nfor row in table.findAll('td'):\n    \n    cell = {}\n   \n    if row.span.text=='Not assigned':\n        pass\n    else:\n        cell['PostalCode'] = row.p.text[:3]\n        print(row.span.text[1])\n        \n        cell['Borough'] = (row.span.text).split('(')[0]\n        print((row.span.text).split('(')[1])\n        cell['Neighborhood'] = (((((row.span.text).split('(')[1]).strip(')')).replace(' /',',')).replace(')',' ')).strip(' ')\n        table_contents.append(cell)\n\n",
            "execution_count": null,
            "outputs": []
        },
        {
            "metadata": {},
            "cell_type": "markdown",
            "source": "We will save all changes into a dataframe called tor_df."
        },
        {
            "metadata": {},
            "cell_type": "code",
            "source": "# print(table_contents)\ntor_df=pd.DataFrame(table_contents)\ntor_df['Borough']=tor_df['Borough'].replace({'Downtown TorontoStn A PO Boxes25 The Esplanade':'Downtown Toronto Stn A',\n                                             'East TorontoBusiness reply mail Processing Centre969 Eastern':'East Toronto Business',\n                                             'EtobicokeNorthwest':'Etobicoke Northwest','East YorkEast Toronto':'East York/East Toronto',\n                                             'MississaugaCanada Post Gateway Processing Centre':'Mississauga'})",
            "execution_count": null,
            "outputs": []
        },
        {
            "metadata": {},
            "cell_type": "code",
            "source": "tor_df.head()",
            "execution_count": null,
            "outputs": []
        },
        {
            "metadata": {},
            "cell_type": "code",
            "source": "",
            "execution_count": null,
            "outputs": []
        },
        {
            "metadata": {},
            "cell_type": "code",
            "source": "",
            "execution_count": null,
            "outputs": []
        }
    ],
    "metadata": {
        "kernelspec": {
            "name": "python3",
            "display_name": "Python 3.7",
            "language": "python"
        },
        "language_info": {
            "name": "python",
            "version": "3.7.10",
            "mimetype": "text/x-python",
            "codemirror_mode": {
                "name": "ipython",
                "version": 3
            },
            "pygments_lexer": "ipython3",
            "nbconvert_exporter": "python",
            "file_extension": ".py"
        }
    },
    "nbformat": 4,
    "nbformat_minor": 1
}