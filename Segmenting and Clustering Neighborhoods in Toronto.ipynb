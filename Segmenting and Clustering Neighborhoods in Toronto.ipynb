{
    "cells": [
        {
            "metadata": {},
            "cell_type": "code",
            "source": "!conda update pandas\nimport pandas as pd \n!conda install beautifulsoup4\nimport requests \nfrom bs4 import BeautifulSoup \n!pip install html5lib\n!pip install bs4 \n",
            "execution_count": 26,
            "outputs": [
                {
                    "output_type": "stream",
                    "text": "Collecting package metadata (current_repodata.json): done\nSolving environment: - \n\nUpdating pandas is constricted by \n\nibm-wsrt-py37main-main -> requires pandas==1.0.5[build=*]\n\nIf you are sure you want an update of your package either try `conda update --all` or install a specific version of the package you want using `conda install <pkg>=<version>`\n\ndone\n\n# All requested packages already installed.\n\nCollecting package metadata (current_repodata.json): done\nSolving environment: done\n\n# All requested packages already installed.\n\n/opt/conda/envs/Python-3.7-main/lib/python3.7/site-packages/secretstorage/dhcrypto.py:16: CryptographyDeprecationWarning: int_from_bytes is deprecated, use int.from_bytes instead\n  from cryptography.utils import int_from_bytes\n/opt/conda/envs/Python-3.7-main/lib/python3.7/site-packages/secretstorage/util.py:25: CryptographyDeprecationWarning: int_from_bytes is deprecated, use int.from_bytes instead\n  from cryptography.utils import int_from_bytes\nRequirement already satisfied: html5lib in /opt/conda/envs/Python-3.7-main/lib/python3.7/site-packages (1.1)\nRequirement already satisfied: six>=1.9 in /opt/conda/envs/Python-3.7-main/lib/python3.7/site-packages (from html5lib) (1.15.0)\nRequirement already satisfied: webencodings in /opt/conda/envs/Python-3.7-main/lib/python3.7/site-packages (from html5lib) (0.5.1)\n/opt/conda/envs/Python-3.7-main/lib/python3.7/site-packages/secretstorage/dhcrypto.py:16: CryptographyDeprecationWarning: int_from_bytes is deprecated, use int.from_bytes instead\n  from cryptography.utils import int_from_bytes\n/opt/conda/envs/Python-3.7-main/lib/python3.7/site-packages/secretstorage/util.py:25: CryptographyDeprecationWarning: int_from_bytes is deprecated, use int.from_bytes instead\n  from cryptography.utils import int_from_bytes\nRequirement already satisfied: bs4 in /opt/conda/envs/Python-3.7-main/lib/python3.7/site-packages (0.0.1)\nRequirement already satisfied: beautifulsoup4 in /opt/conda/envs/Python-3.7-main/lib/python3.7/site-packages (from bs4) (4.9.1)\nRequirement already satisfied: soupsieve>1.2 in /opt/conda/envs/Python-3.7-main/lib/python3.7/site-packages (from beautifulsoup4->bs4) (2.0.1)\n",
                    "name": "stdout"
                }
            ]
        },
        {
            "metadata": {},
            "cell_type": "markdown",
            "source": "Obtaining the url to the page with the table data."
        },
        {
            "metadata": {},
            "cell_type": "code",
            "source": "url='https://en.wikipedia.org/wiki/List_of_postal_codes_of_Canada:_M'\n#url='https://en.wikipedia.org/wiki/List_of_postal_codes_of_Canada:_L'\nr=requests.get(url)\nsoup=BeautifulSoup(r.text,'html5lib')",
            "execution_count": 27,
            "outputs": []
        },
        {
            "metadata": {},
            "cell_type": "markdown",
            "source": "Now will search for the table we are interested in."
        },
        {
            "metadata": {},
            "cell_type": "code",
            "source": "table_contents=[]\ntable=soup.find('table')",
            "execution_count": 33,
            "outputs": []
        },
        {
            "metadata": {},
            "cell_type": "markdown",
            "source": "Now that we have our table, need to clean the data. In the following cell, the code will organize the table values into 3 separate columns (Postal Code, Borough, and Neighborhood), and will drop any cells with \"Not Assigned\" in their data."
        },
        {
            "metadata": {},
            "cell_type": "code",
            "source": "\nfor row in table.findAll('td'):\n    \n    cell = {}\n   \n    if row.span.text=='Not assigned':\n        pass\n    else:\n        cell['PostalCode'] = row.p.text[:3]\n        print(row.span.text[1])\n        \n        cell['Borough'] = (row.span.text).split('(')[0]\n        print((row.span.text).split('(')[1])\n        cell['Neighborhood'] = (((((row.span.text).split('(')[1]).strip(')')).replace(' /',',')).replace(')',' ')).strip(' ')\n        table_contents.append(cell)\n\n",
            "execution_count": 29,
            "outputs": [
                {
                    "output_type": "stream",
                    "text": "o\nParkwoods)\no\nVictoria Village)\no\nRegent Park / Harbourfront)\no\nLawrence Manor / Lawrence Heights)\nu\nOntario Provincial Government)\nt\nIslington Avenue)\nc\nMalvern / Rouge)\no\nDon Mills)North\na\nParkview Hill / Woodbine Gardens)\no\nGarden District, Ryerson)\no\nGlencairn)\nt\nWest Deane Park / Princess Gardens / Martin Grove / Islington / Cloverdale)\nc\nRouge Hill / Port Union / Highland Creek)\no\nDon Mills)South\na\nWoodbine Heights)\no\nSt. James Town)\no\nHumewood-Cedarvale)\nt\nEringate / Bloordale Gardens / Old Burnhamthorpe / Markland Wood)\nc\nGuildwood / Morningside / West Hill)\na\nThe Beaches)\no\nBerczy Park)\no\nCaledonia-Fairbanks)\nc\nWoburn)\na\nLeaside)\no\nCentral Bay Street)\no\nChristie)\nc\nCedarbrae)\no\nHillcrest Village)\no\nBathurst Manor / Wilson Heights / Downsview North)\na\nThorncliffe Park)\no\nRichmond / Adelaide / King)\ne\nDufferin / Dovercourt Village)\nc\nScarborough Village)\no\nFairview / Henry Farm / Oriole)\no\nNorthwood Park / York University)\na\nThe Danforth  East)\no\nHarbourfront East / Union Station / Toronto Islands)\ne\nLittle Portugal / Trinity)\nc\nKennedy Park / Ionview / East Birchmount Park)\no\nBayview Village)\no\nDownsview)East  \na\nThe Danforth West / Riverdale)\no\nToronto Dominion Centre / Design Exchange)\ne\nBrockton / Parkdale Village / Exhibition Place)\nc\nGolden Mile / Clairlea / Oakridge)\no\nYork Mills / Silver Hills)\no\nDownsview)West\na\nIndia Bazaar / The Beaches West)\no\nCommerce Court / Victoria Hotel)\no\nNorth Park / Maple Leaf Park / Upwood Park)\no\nHumber Summit)\nc\nCliffside / Cliffcrest / Scarborough Village West)\no\nWillowdale / Newtonbrook)\no\nDownsview)Central\na\nStudio District)\no\nBedford Park / Lawrence Manor East)\no\nDel Ray / Mount Dennis / Keelsdale and Silverthorn)\no\nHumberlea / Emery)\nc\nBirch Cliff / Cliffside West)\no\nWillowdale)South\no\nDownsview)Northwest\ne\nLawrence Park)\ne\nRoselawn)\no\nRunnymede / The Junction North)\no\nWeston)\nc\nDorset Park / Wexford Heights / Scarborough Town Centre)\no\nYork Mills West)\ne\nDavisville North)\ne\nForest Hill North & West)\ne\nHigh Park / The Junction South)\nt\nWestmount)\nc\nWexford / Maryvale)\no\nWillowdale)West\ne\nNorth Toronto West)\ne\nThe Annex / North Midtown / Yorkville)\ne\nParkdale / Roncesvalles)\ni\nEnclave of L4W)\nt\nKingsview Village / St. Phillips / Martin Grove Gardens / Richview Gardens)\nc\nAgincourt) \ne\nDavisville)\no\nUniversity of Toronto / Harbord)\ne\nRunnymede / Swansea)\nc\nClarks Corners / Tam O'Shanter / Sullivan)\ne\nMoore Park / Summerhill East)\no\nKensington Market / Chinatown / Grange Park)\nc\nMilliken / Agincourt North / Steeles East / L'Amoreaux East)\ne\nSummerhill West / Rathnelly / South Hill / Forest Hill SE / Deer Park)\no\nCN Tower / King and Spadina / Railway Lands / Harbourfront West / Bathurst Quay / South Niagara / Island airport)\nt\nNew Toronto / Mimico South / Humber Bay Shores)\nt\nSouth Steeles / Silverstone / Humbergate / Jamestown / Mount Olive / Beaumond Heights / Thistletown / Albion Gardens)\nc\nSteeles West / L'Amoreaux West)\no\nRosedale)\no\nEnclave of M5E)\nt\nAlderwood / Long Branch)\nt\nClairville / Humberwood / Woodbine Downs / West Humber / Kipling Heights / Rexdale / Elms / Tandridge / Old Rexdale)\nc\nUpper Rouge)\no\nSt. James Town / Cabbagetown)\no\nFirst Canadian Place / Underground city)\nt\nThe Kingsway / Montgomery Road / Old Mill North)\no\nChurch and Wellesley)\na\nEnclave of M4L)\nt\nOld Mill South / King's Mill Park / Sunnylea / Humber Bay / Mimico NE / The Queensway East / Royal York South East / Kingsway Park South East)\nt\nMimico NW / The Queensway West / South of Bloor / Kingsway Park South West / Royal York South West)\n",
                    "name": "stdout"
                }
            ]
        },
        {
            "metadata": {},
            "cell_type": "markdown",
            "source": "We will save all changes into a dataframe called tor_df."
        },
        {
            "metadata": {},
            "cell_type": "code",
            "source": "# print(table_contents)\ntor_df=pd.DataFrame(table_contents)\ntor_df['Borough']=tor_df['Borough'].replace({'Downtown TorontoStn A PO Boxes25 The Esplanade':'Downtown Toronto Stn A',\n                                             'East TorontoBusiness reply mail Processing Centre969 Eastern':'East Toronto Business',\n                                             'EtobicokeNorthwest':'Etobicoke Northwest','East YorkEast Toronto':'East York/East Toronto',\n                                             'MississaugaCanada Post Gateway Processing Centre':'Mississauga'})",
            "execution_count": 30,
            "outputs": []
        },
        {
            "metadata": {},
            "cell_type": "code",
            "source": "tor_df.head()",
            "execution_count": 31,
            "outputs": [
                {
                    "output_type": "execute_result",
                    "execution_count": 31,
                    "data": {
                        "text/plain": "  PostalCode           Borough                      Neighborhood\n0        M3A        North York                         Parkwoods\n1        M4A        North York                  Victoria Village\n2        M5A  Downtown Toronto         Regent Park, Harbourfront\n3        M6A        North York  Lawrence Manor, Lawrence Heights\n4        M7A      Queen's Park     Ontario Provincial Government",
                        "text/html": "<div>\n<style scoped>\n    .dataframe tbody tr th:only-of-type {\n        vertical-align: middle;\n    }\n\n    .dataframe tbody tr th {\n        vertical-align: top;\n    }\n\n    .dataframe thead th {\n        text-align: right;\n    }\n</style>\n<table border=\"1\" class=\"dataframe\">\n  <thead>\n    <tr style=\"text-align: right;\">\n      <th></th>\n      <th>PostalCode</th>\n      <th>Borough</th>\n      <th>Neighborhood</th>\n    </tr>\n  </thead>\n  <tbody>\n    <tr>\n      <th>0</th>\n      <td>M3A</td>\n      <td>North York</td>\n      <td>Parkwoods</td>\n    </tr>\n    <tr>\n      <th>1</th>\n      <td>M4A</td>\n      <td>North York</td>\n      <td>Victoria Village</td>\n    </tr>\n    <tr>\n      <th>2</th>\n      <td>M5A</td>\n      <td>Downtown Toronto</td>\n      <td>Regent Park, Harbourfront</td>\n    </tr>\n    <tr>\n      <th>3</th>\n      <td>M6A</td>\n      <td>North York</td>\n      <td>Lawrence Manor, Lawrence Heights</td>\n    </tr>\n    <tr>\n      <th>4</th>\n      <td>M7A</td>\n      <td>Queen's Park</td>\n      <td>Ontario Provincial Government</td>\n    </tr>\n  </tbody>\n</table>\n</div>"
                    },
                    "metadata": {}
                }
            ]
        },
        {
            "metadata": {},
            "cell_type": "code",
            "source": "",
            "execution_count": null,
            "outputs": []
        },
        {
            "metadata": {},
            "cell_type": "code",
            "source": "",
            "execution_count": null,
            "outputs": []
        }
    ],
    "metadata": {
        "kernelspec": {
            "name": "python3",
            "display_name": "Python 3.7",
            "language": "python"
        },
        "language_info": {
            "name": "python",
            "version": "3.7.10",
            "mimetype": "text/x-python",
            "codemirror_mode": {
                "name": "ipython",
                "version": 3
            },
            "pygments_lexer": "ipython3",
            "nbconvert_exporter": "python",
            "file_extension": ".py"
        }
    },
    "nbformat": 4,
    "nbformat_minor": 1
}